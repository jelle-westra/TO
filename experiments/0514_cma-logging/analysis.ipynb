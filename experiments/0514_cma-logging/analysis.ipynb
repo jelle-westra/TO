{
 "cells": [
  {
   "cell_type": "code",
   "execution_count": 1,
   "id": "0a2e2053",
   "metadata": {},
   "outputs": [],
   "source": [
    "import numpy as np\n",
    "import matplotlib.pyplot as plt\n",
    "import pandas as pd\n",
    "import re"
   ]
  },
  {
   "cell_type": "markdown",
   "id": "2ab95156",
   "metadata": {},
   "source": [
    "# Difference in the Terminal Output\n",
    "\n",
    "For the same seed and settings two separate runs generate different outputs in the terminal;\n",
    "the last line is different even though it seems the path is the same."
   ]
  },
  {
   "cell_type": "code",
   "execution_count": 2,
   "id": "30d9efad",
   "metadata": {},
   "outputs": [
    {
     "name": "stdout",
     "output_type": "stream",
     "text": [
      "(4_w,8)-aCMA-ES (mu_w=2.6,w_1=52%) in dimension 5 (seed=1, Fri May 16 11:18:59 2025)\n",
      "Iterat #Fevals   function value  axis ratio  sigma  min&max std  t[m:s]\n",
      "    1      8 2.325600000000000e+03 1.0e+00 2.66e-01  3e-01  3e-01 0:00.0\n",
      "    2     16 5.000000000000000e+02 1.4e+00 2.98e-01  3e-01  3e-01 0:00.0\n",
      "    3     24 4.940000000000000e+02 1.9e+00 2.84e-01  2e-01  3e-01 0:00.0\n",
      "   21    168 5.000000000000000e+02 5.2e+00 3.31e-01  1e-01  2e-01 0:00.2\n",
      "termination on tolflatfitness=1 (Fri May 16 11:18:59 2025)\n",
      "final/bestever f-value = 5.000000e+02 4.916000e+02 after 169/133 evaluations\n",
      "incumbent solution: [np.float64(0.9386043382115833), np.float64(0.4709626937078244), np.float64(0.021843081221268063), np.float64(0.08102816430804718), np.float64(0.762698209132451)]\n",
      "std deviation: [np.float64(0.11381074980822264), np.float64(0.16939636259325588), np.float64(0.16367624473251036), np.float64(0.16040018865761171), np.float64(0.1613583735768437)]\n",
      "(8_w,17)-aCMA-ES (mu_w=5.1,w_1=31%) in dimension 5 (seed=2, Fri May 16 11:18:59 2025)\n",
      "Iterat #Fevals   function value  axis ratio  sigma  min&max std  t[m:s]\n",
      "    1    186 8.475057748298548e+03 1.0e+00 3.08e-01  3e-01  3e-01 0:00.0\n",
      "    2    203 4.896000000000000e+02 1.6e+00 3.94e-01  3e-01  3e-01 0:00.1\n",
      "    3    220 4.796000000000000e+02 2.3e+00 4.79e-01  3e-01  3e-01 0:00.1\n",
      "   42    883 9.080427582260725e-02 7.7e+00 3.83e-01  4e-02  2e-01 0:03.1\n",
      "   48    985 9.623376047838356e-02 7.7e+00 5.21e-01  5e-02  3e-01 0:07.5\n",
      "   53   1070 8.804841772929120e-02 6.0e+00 3.18e-01  2e-02  1e-01 0:12.7\n",
      "   59   1172 8.484231573947326e-02 5.8e+00 2.13e-01  7e-03  6e-02 0:19.4\n",
      "   66   1291 8.387369522201268e-02 7.8e+00 1.15e-01  2e-03  3e-02 0:27.3\n",
      "   74   1427 8.351225112529577e-02 1.6e+01 6.47e-02  8e-04  9e-03 0:36.2\n",
      "   81   1546 8.366851267546796e-02 2.0e+01 3.73e-02  3e-04  4e-03 0:45.3\n",
      "[stop]\n"
     ]
    }
   ],
   "source": [
    "!cat cma.001.log"
   ]
  },
  {
   "cell_type": "code",
   "execution_count": 3,
   "id": "83135765",
   "metadata": {},
   "outputs": [
    {
     "name": "stdout",
     "output_type": "stream",
     "text": [
      "(4_w,8)-aCMA-ES (mu_w=2.6,w_1=52%) in dimension 5 (seed=1, Fri May 16 10:15:08 2025)\n",
      "Iterat #Fevals   function value  axis ratio  sigma  min&max std  t[m:s]\n",
      "    1      8 2.325600000000000e+03 1.0e+00 2.66e-01  3e-01  3e-01 0:00.1\n",
      "    2     16 5.000000000000000e+02 1.4e+00 2.98e-01  3e-01  3e-01 0:00.1\n",
      "    3     24 4.940000000000000e+02 1.9e+00 2.84e-01  2e-01  3e-01 0:00.1\n",
      "   21    168 5.000000000000000e+02 5.2e+00 3.31e-01  1e-01  2e-01 0:00.3\n",
      "termination on tolflatfitness=1 (Fri May 16 10:15:09 2025)\n",
      "final/bestever f-value = 5.000000e+02 4.916000e+02 after 169/133 evaluations\n",
      "incumbent solution: [np.float64(0.9386043382115833), np.float64(0.4709626937078244), np.float64(0.021843081221268063), np.float64(0.08102816430804718), np.float64(0.762698209132451)]\n",
      "std deviation: [np.float64(0.11381074980822264), np.float64(0.16939636259325588), np.float64(0.16367624473251036), np.float64(0.16040018865761171), np.float64(0.1613583735768437)]\n",
      "(8_w,17)-aCMA-ES (mu_w=5.1,w_1=31%) in dimension 5 (seed=2, Fri May 16 10:15:09 2025)\n",
      "Iterat #Fevals   function value  axis ratio  sigma  min&max std  t[m:s]\n",
      "    1    186 8.475057748298548e+03 1.0e+00 3.08e-01  3e-01  3e-01 0:00.0\n",
      "    2    203 4.896000000000000e+02 1.6e+00 3.94e-01  3e-01  3e-01 0:00.1\n",
      "    3    220 4.796000000000000e+02 2.3e+00 4.79e-01  3e-01  3e-01 0:00.1\n",
      "   43    900 2.581013129065898e-01 6.8e+00 3.59e-01  4e-02  2e-01 0:03.5\n",
      "   49   1002 8.824878693388435e-02 7.5e+00 4.69e-01  4e-02  3e-01 0:08.5\n",
      "   54   1087 9.617630872022816e-02 6.3e+00 2.83e-01  1e-02  1e-01 0:13.7\n",
      "   60   1189 8.416980346273165e-02 7.0e+00 1.91e-01  5e-03  5e-02 0:20.6\n",
      "   67   1308 8.418139050710841e-02 9.1e+00 1.10e-01  2e-03  2e-02 0:28.4\n",
      "   74   1427 8.351225112529577e-02 1.6e+01 6.47e-02  8e-04  9e-03 0:36.5\n",
      "   82   1563 8.358871398859830e-02 2.1e+01 3.87e-02  3e-04  4e-03 0:46.7\n",
      "[stop]\n"
     ]
    }
   ],
   "source": [
    "!cat cma.002.log"
   ]
  },
  {
   "cell_type": "markdown",
   "id": "500de2cb",
   "metadata": {},
   "source": [
    "# Loading of my manual logging \n",
    "This logs the simulation calls, and for now also the penalty of the mixed constraint."
   ]
  },
  {
   "cell_type": "code",
   "execution_count": 4,
   "id": "70d7678d",
   "metadata": {},
   "outputs": [],
   "source": [
    "with open('./results/logging/1/evals.dat', 'r') as handle : lines = handle.readlines()\n",
    "\n",
    "(mylog_fitness, mylog_constraint) = np.empty((2, len(lines)))\n",
    "for (i, line) in enumerate(lines) : (mylog_fitness[i], mylog_constraint[i]) = map(float, line.split())\n",
    "del lines"
   ]
  },
  {
   "cell_type": "markdown",
   "id": "d5ee760f",
   "metadata": {},
   "source": [
    "# Loading of the CMA-ES log files"
   ]
  },
  {
   "cell_type": "code",
   "execution_count": 5,
   "id": "f0b7b63e",
   "metadata": {},
   "outputs": [
    {
     "data": {
      "text/html": [
       "<div>\n",
       "<style scoped>\n",
       "    .dataframe tbody tr th:only-of-type {\n",
       "        vertical-align: middle;\n",
       "    }\n",
       "\n",
       "    .dataframe tbody tr th {\n",
       "        vertical-align: top;\n",
       "    }\n",
       "\n",
       "    .dataframe thead th {\n",
       "        text-align: right;\n",
       "    }\n",
       "</style>\n",
       "<table border=\"1\" class=\"dataframe\">\n",
       "  <thead>\n",
       "    <tr style=\"text-align: right;\">\n",
       "      <th></th>\n",
       "      <th>iteration</th>\n",
       "      <th>evaluation</th>\n",
       "      <th>sigma</th>\n",
       "      <th>axis ratio</th>\n",
       "      <th>bestever</th>\n",
       "      <th>best</th>\n",
       "      <th>median</th>\n",
       "      <th>worst objective function value</th>\n",
       "      <th>interquartile range</th>\n",
       "    </tr>\n",
       "  </thead>\n",
       "  <tbody>\n",
       "    <tr>\n",
       "      <th>0</th>\n",
       "      <td>1</td>\n",
       "      <td>8</td>\n",
       "      <td>0.265620</td>\n",
       "      <td>1.000040</td>\n",
       "      <td>2325.6</td>\n",
       "      <td>2325.6</td>\n",
       "      <td>70280.634720</td>\n",
       "      <td>90146.931830</td>\n",
       "      <td>54606.682962</td>\n",
       "    </tr>\n",
       "    <tr>\n",
       "      <th>1</th>\n",
       "      <td>2</td>\n",
       "      <td>16</td>\n",
       "      <td>0.297813</td>\n",
       "      <td>1.374551</td>\n",
       "      <td>500.0</td>\n",
       "      <td>500.0</td>\n",
       "      <td>29727.922061</td>\n",
       "      <td>65000.000000</td>\n",
       "      <td>27086.835327</td>\n",
       "    </tr>\n",
       "    <tr>\n",
       "      <th>2</th>\n",
       "      <td>3</td>\n",
       "      <td>24</td>\n",
       "      <td>0.283868</td>\n",
       "      <td>1.920709</td>\n",
       "      <td>494.0</td>\n",
       "      <td>494.0</td>\n",
       "      <td>9862.781132</td>\n",
       "      <td>40006.000000</td>\n",
       "      <td>22511.748784</td>\n",
       "    </tr>\n",
       "    <tr>\n",
       "      <th>3</th>\n",
       "      <td>4</td>\n",
       "      <td>32</td>\n",
       "      <td>0.335672</td>\n",
       "      <td>2.017275</td>\n",
       "      <td>494.0</td>\n",
       "      <td>500.0</td>\n",
       "      <td>9038.725267</td>\n",
       "      <td>38290.346349</td>\n",
       "      <td>18689.335955</td>\n",
       "    </tr>\n",
       "    <tr>\n",
       "      <th>4</th>\n",
       "      <td>5</td>\n",
       "      <td>40</td>\n",
       "      <td>0.373804</td>\n",
       "      <td>2.436793</td>\n",
       "      <td>492.8</td>\n",
       "      <td>492.8</td>\n",
       "      <td>500.000000</td>\n",
       "      <td>2898.213562</td>\n",
       "      <td>0.400000</td>\n",
       "    </tr>\n",
       "  </tbody>\n",
       "</table>\n",
       "</div>"
      ],
      "text/plain": [
       "   iteration  evaluation     sigma  axis ratio  bestever    best  \\\n",
       "0          1           8  0.265620    1.000040    2325.6  2325.6   \n",
       "1          2          16  0.297813    1.374551     500.0   500.0   \n",
       "2          3          24  0.283868    1.920709     494.0   494.0   \n",
       "3          4          32  0.335672    2.017275     494.0   500.0   \n",
       "4          5          40  0.373804    2.436793     492.8   492.8   \n",
       "\n",
       "         median  worst objective function value  interquartile range  \n",
       "0  70280.634720                    90146.931830         54606.682962  \n",
       "1  29727.922061                    65000.000000         27086.835327  \n",
       "2   9862.781132                    40006.000000         22511.748784  \n",
       "3   9038.725267                    38290.346349         18689.335955  \n",
       "4    500.000000                     2898.213562             0.400000  "
      ]
     },
     "execution_count": 5,
     "metadata": {},
     "output_type": "execute_result"
    }
   ],
   "source": [
    "header = 'iteration, evaluation, sigma, axis ratio, bestever, best, median, worst objective function value, interquartile range'\n",
    "column_names = header.split(', ')\n",
    "\n",
    "fit_logs = []\n",
    "for i in (1, 2):\n",
    "    fit = {c : [] for c in column_names}\n",
    "    with open(f'./results/logging/{i}/outcmaes/fit.dat', 'r') as handle : \n",
    "        header = handle.readline()\n",
    "        for line in handle :\n",
    "            for (c, v) in zip(column_names, line.split()) :\n",
    "                fit[c].append(float(v) if '.' in v else int(v))\n",
    "    fit_logs.append(pd.DataFrame(fit))\n",
    "\n",
    "fit_logs[0].head()"
   ]
  },
  {
   "cell_type": "code",
   "execution_count": 6,
   "id": "5e23a385",
   "metadata": {},
   "outputs": [
    {
     "data": {
      "text/plain": [
       "True"
      ]
     },
     "execution_count": 6,
     "metadata": {},
     "output_type": "execute_result"
    }
   ],
   "source": [
    "(fit_logs[0] == fit_logs[1]).all().all()"
   ]
  },
  {
   "cell_type": "markdown",
   "id": "22723cc1",
   "metadata": {},
   "source": [
    "Despite the difference in terminal output, the log files logging all iterations/generations are identical"
   ]
  },
  {
   "cell_type": "code",
   "execution_count": 7,
   "id": "24876059",
   "metadata": {},
   "outputs": [],
   "source": [
    "fit = fit_logs[0]"
   ]
  },
  {
   "cell_type": "code",
   "execution_count": 8,
   "id": "3866e81b",
   "metadata": {},
   "outputs": [],
   "source": [
    "with open('cma.001.log', 'r') as handle : lines = handle.readlines()\n",
    "\n",
    "(start_index_1, start_index_2) = [i for (i, line) in enumerate(lines) if line.split()[0] == '1']\n",
    "(terminal_evaluations, terminal_fitness) = zip(*[(int(line.split()[1]), float(line.split()[2])) for line in lines[start_index_2:-1]])"
   ]
  },
  {
   "cell_type": "code",
   "execution_count": 9,
   "id": "a69d64fe",
   "metadata": {},
   "outputs": [
    {
     "data": {
      "text/html": [
       "<div>\n",
       "<style scoped>\n",
       "    .dataframe tbody tr th:only-of-type {\n",
       "        vertical-align: middle;\n",
       "    }\n",
       "\n",
       "    .dataframe tbody tr th {\n",
       "        vertical-align: top;\n",
       "    }\n",
       "\n",
       "    .dataframe thead th {\n",
       "        text-align: right;\n",
       "    }\n",
       "</style>\n",
       "<table border=\"1\" class=\"dataframe\">\n",
       "  <thead>\n",
       "    <tr style=\"text-align: right;\">\n",
       "      <th></th>\n",
       "      <th>iteration</th>\n",
       "      <th>evaluation</th>\n",
       "      <th>best</th>\n",
       "      <th>bestever</th>\n",
       "      <th>terminal fitness</th>\n",
       "    </tr>\n",
       "  </thead>\n",
       "  <tbody>\n",
       "    <tr>\n",
       "      <th>21</th>\n",
       "      <td>1</td>\n",
       "      <td>186</td>\n",
       "      <td>8475.057748</td>\n",
       "      <td>8475.057748</td>\n",
       "      <td>8475.057748</td>\n",
       "    </tr>\n",
       "    <tr>\n",
       "      <th>22</th>\n",
       "      <td>2</td>\n",
       "      <td>203</td>\n",
       "      <td>489.600000</td>\n",
       "      <td>489.600000</td>\n",
       "      <td>489.600000</td>\n",
       "    </tr>\n",
       "    <tr>\n",
       "      <th>23</th>\n",
       "      <td>3</td>\n",
       "      <td>220</td>\n",
       "      <td>479.600000</td>\n",
       "      <td>479.600000</td>\n",
       "      <td>479.600000</td>\n",
       "    </tr>\n",
       "    <tr>\n",
       "      <th>62</th>\n",
       "      <td>42</td>\n",
       "      <td>883</td>\n",
       "      <td>0.090804</td>\n",
       "      <td>0.090804</td>\n",
       "      <td>0.090804</td>\n",
       "    </tr>\n",
       "    <tr>\n",
       "      <th>68</th>\n",
       "      <td>48</td>\n",
       "      <td>985</td>\n",
       "      <td>0.096234</td>\n",
       "      <td>0.087391</td>\n",
       "      <td>0.096234</td>\n",
       "    </tr>\n",
       "    <tr>\n",
       "      <th>73</th>\n",
       "      <td>53</td>\n",
       "      <td>1070</td>\n",
       "      <td>0.088048</td>\n",
       "      <td>0.087391</td>\n",
       "      <td>0.088048</td>\n",
       "    </tr>\n",
       "    <tr>\n",
       "      <th>79</th>\n",
       "      <td>59</td>\n",
       "      <td>1172</td>\n",
       "      <td>0.084842</td>\n",
       "      <td>0.083944</td>\n",
       "      <td>0.084842</td>\n",
       "    </tr>\n",
       "    <tr>\n",
       "      <th>86</th>\n",
       "      <td>66</td>\n",
       "      <td>1291</td>\n",
       "      <td>0.083874</td>\n",
       "      <td>0.083806</td>\n",
       "      <td>0.083874</td>\n",
       "    </tr>\n",
       "    <tr>\n",
       "      <th>94</th>\n",
       "      <td>74</td>\n",
       "      <td>1427</td>\n",
       "      <td>0.083512</td>\n",
       "      <td>0.083512</td>\n",
       "      <td>0.083512</td>\n",
       "    </tr>\n",
       "    <tr>\n",
       "      <th>101</th>\n",
       "      <td>81</td>\n",
       "      <td>1546</td>\n",
       "      <td>0.083669</td>\n",
       "      <td>0.083512</td>\n",
       "      <td>0.083669</td>\n",
       "    </tr>\n",
       "  </tbody>\n",
       "</table>\n",
       "</div>"
      ],
      "text/plain": [
       "     iteration  evaluation         best     bestever  terminal fitness\n",
       "21           1         186  8475.057748  8475.057748       8475.057748\n",
       "22           2         203   489.600000   489.600000        489.600000\n",
       "23           3         220   479.600000   479.600000        479.600000\n",
       "62          42         883     0.090804     0.090804          0.090804\n",
       "68          48         985     0.096234     0.087391          0.096234\n",
       "73          53        1070     0.088048     0.087391          0.088048\n",
       "79          59        1172     0.084842     0.083944          0.084842\n",
       "86          66        1291     0.083874     0.083806          0.083874\n",
       "94          74        1427     0.083512     0.083512          0.083512\n",
       "101         81        1546     0.083669     0.083512          0.083669"
      ]
     },
     "execution_count": 9,
     "metadata": {},
     "output_type": "execute_result"
    }
   ],
   "source": [
    "idx = [e in terminal_evaluations for e in fit['evaluation']]\n",
    "fit_selection = fit.loc[idx, ['iteration', 'evaluation', 'best', 'bestever']]\n",
    "\n",
    "fit_selection['terminal fitness'] = terminal_fitness\n",
    "\n",
    "fit_selection"
   ]
  },
  {
   "cell_type": "markdown",
   "id": "5a949c2c",
   "metadata": {},
   "source": [
    "# Checking agreement between my logs and the CMA logs"
   ]
  },
  {
   "cell_type": "code",
   "execution_count": 10,
   "id": "ebcd5797",
   "metadata": {},
   "outputs": [],
   "source": [
    "# starting from after the restart\n",
    "start_index_2_df = np.argwhere((fit['iteration'] == 1).values)[1,0]\n",
    "\n",
    "(cmalog_evaluations, cmalog_bestever) = fit.iloc[start_index_2_df:][['evaluation', 'bestever']].values.T"
   ]
  },
  {
   "cell_type": "code",
   "execution_count": 11,
   "id": "fef92c57",
   "metadata": {},
   "outputs": [],
   "source": [
    "# picking up the same evaluations found as in the cma-log, note this is once per generation\n",
    "mylog_bestever = np.minimum.accumulate(mylog_fitness)[cmalog_evaluations.astype(int)-1]"
   ]
  },
  {
   "cell_type": "code",
   "execution_count": 12,
   "id": "62955286",
   "metadata": {},
   "outputs": [
    {
     "data": {
      "text/plain": [
       "True"
      ]
     },
     "execution_count": 12,
     "metadata": {},
     "output_type": "execute_result"
    }
   ],
   "source": [
    "np.allclose(mylog_bestever[1:], cmalog_bestever[1:])"
   ]
  },
  {
   "cell_type": "markdown",
   "id": "76230431",
   "metadata": {},
   "source": [
    "They're the same with the exception of the first generation, the `mylog_fitness` uses the min from the previous run as it doesn't recognize the restart."
   ]
  },
  {
   "cell_type": "code",
   "execution_count": 13,
   "id": "bacca323",
   "metadata": {},
   "outputs": [
    {
     "data": {
      "text/plain": [
       "<matplotlib.legend.Legend at 0x153489750>"
      ]
     },
     "execution_count": 13,
     "metadata": {},
     "output_type": "execute_result"
    },
    {
     "data": {
      "image/png": "[encoded data removed]",
      "text/plain": [
       "<Figure size 640x480 with 1 Axes>"
      ]
     },
     "metadata": {},
     "output_type": "display_data"
    }
   ],
   "source": [
    "plt.plot(mylog_bestever[1:], label='my log')\n",
    "plt.plot(cmalog_bestever[1:], ls='--', label='cma log')\n",
    "plt.legend()"
   ]
  }
 ],
 "metadata": {
  "kernelspec": {
   "display_name": "TOnoIOH",
   "language": "python",
   "name": "python3"
  },
  "language_info": {
   "codemirror_mode": {
    "name": "ipython",
    "version": 3
   },
   "file_extension": ".py",
   "mimetype": "text/x-python",
   "name": "python",
   "nbconvert_exporter": "python",
   "pygments_lexer": "ipython3",
   "version": "3.11.11"
  }
 },
 "nbformat": 4,
 "nbformat_minor": 5
}
