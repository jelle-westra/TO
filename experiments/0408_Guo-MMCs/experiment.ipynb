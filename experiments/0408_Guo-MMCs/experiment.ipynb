{
 "cells": [
  {
   "cell_type": "code",
   "execution_count": 1,
   "metadata": {},
   "outputs": [
    {
     "data": {
      "text/markdown": [
       "<div class=\"alert alert-block alert-success\" style=\"font-size: 14px; border-radius: 10px\"><h4>[GO] TO @ 2507d7e13867b8bfb92d7b5cdd6aa92e6b27ca2c\n",
       "</h4><pre>  ✅ No changes found in the ./TO packge.</pre></div>"
      ],
      "text/plain": [
       "<IPython.core.display.Markdown object>"
      ]
     },
     "metadata": {},
     "output_type": "display_data"
    }
   ],
   "source": [
    "import sys\n",
    "sys.path.append('../..')\n",
    "from TO.utils import check_package_status\n",
    "check_package_status()\n",
    "\n",
    "from experiments.utils import set_plt_template\n",
    "set_plt_template()"
   ]
  },
  {
   "cell_type": "code",
   "execution_count": 2,
   "metadata": {},
   "outputs": [],
   "source": [
    "from TO import Topology\n",
    "from TO.parameterizations.mmc import StraightBeam, MMCAngularConfig, sample_equidistant_pts, Capsules, MMCCenterpointsConfig\n",
    "from TO.problems.beam import create_horizontal_cantilever_problem\n",
    "from TO.experiment import run_experiment\n",
    "\n",
    "import numpy as np\n",
    "import matplotlib.pyplot as plt\n",
    "from shapely.geometry import Polygon, box\n",
    "from tqdm import trange\n",
    "from IPython.utils.io import capture_output\n",
    "import pickle"
   ]
  },
  {
   "cell_type": "code",
   "execution_count": 3,
   "metadata": {},
   "outputs": [],
   "source": [
    "class GuoBeam(StraightBeam):\n",
    "    dimension: int = 5\n",
    "\n",
    "    def __init__(self, n_samples: int) : self.n_samples = n_samples\n",
    "\n",
    "    def get_normalization_factors(self, topology: Topology, symmetry_x: bool, symmetry_y: bool) :\n",
    "        self.rnorm = np.hypot(topology.domain_size_x, topology.domain_size_y)/2\n",
    "        return np.array([self.rnorm, self.rnorm, self.rnorm/4, self.rnorm/4, 2*np.pi])\n",
    "\n",
    "    def transform_pre_scale_y(self, geo: Polygon, config: MMCAngularConfig, x_scaled: np.ndarray):\n",
    "        (r_left, r_right, a, b, phi) = x_scaled.flatten()\n",
    "        (a, b, phi) = (a-self.rnorm/8, b-self.rnorm/8, phi-np.pi)\n",
    "\n",
    "        (x, y) = sample_equidistant_pts(np.c_[geo.exterior.xy], self.n_samples).T\n",
    "\n",
    "        ry = (r_left + r_right - 2*config.ry) / 2 * (x/config.rx)**2 + (r_right - r_left)/2 * (x/config.rx) + config.ry\n",
    "        f = a*np.sin(b*(x/config.rx + phi))\n",
    "        y = (f + ry*y)/config.ry\n",
    "        \n",
    "        return Polygon(np.c_[x, y]).buffer(1e-2) # easy fix for preventing self-intersecting geometries"
   ]
  },
  {
   "cell_type": "code",
   "execution_count": 4,
   "metadata": {},
   "outputs": [],
   "source": [
    "class GuoBeamRelativeThickness(StraightBeam):\n",
    "    dimension: int = 5\n",
    "\n",
    "    def __init__(self, n_samples: int) : self.n_samples = n_samples\n",
    "\n",
    "    def get_normalization_factors(self, topology: Topology, symmetry_x: bool, symmetry_y: bool) :\n",
    "        self.rnorm = np.hypot(topology.domain_size_x, topology.domain_size_y)/2\n",
    "        # we normalize r1 and r2 as it is -> 0-1 instead of rnorm\n",
    "        return np.array([1, 1, self.rnorm/4, self.rnorm/4, 2*np.pi])\n",
    "\n",
    "    def transform_pre_scale_y(self, geo: Polygon, config: MMCAngularConfig, x_scaled: np.ndarray):\n",
    "        (r_left, r_right, a, b, phi) = x_scaled.flatten()\n",
    "        (a, b, phi) = (a-self.rnorm/8, b-self.rnorm/8, phi-np.pi)\n",
    "\n",
    "        # let's linearly map 0-1 to 0.25-4 * config.ry\n",
    "\n",
    "        r_left = ((4 - 0.25)*r_left + 0.25) * config.ry\n",
    "        r_right = ((4 - 0.25)*r_right + 0.25) * config.ry\n",
    "\n",
    "        (x, y) = sample_equidistant_pts(np.c_[geo.exterior.xy], self.n_samples).T\n",
    "\n",
    "        ry = (r_left + r_right - 2*config.ry) / 2 * (x/config.rx)**2 + (r_right - r_left)/2 * (x/config.rx) + config.ry\n",
    "        f = a*np.sin(b*(x/config.rx + phi))\n",
    "        y = (f + ry*y)/config.ry\n",
    "        \n",
    "        return Polygon(np.c_[x, y]).buffer(1e-2)"
   ]
  },
  {
   "cell_type": "code",
   "execution_count": null,
   "metadata": {},
   "outputs": [
    {
     "name": "stdout",
     "output_type": "stream",
     "text": [
      "<class '__main__.GuoBeam'>\n"
     ]
    },
    {
     "name": "stderr",
     "output_type": "stream",
     "text": [
      "100%|██████████| 30/30 [26:58<00:00, 53.96s/it]\n"
     ]
    },
    {
     "name": "stdout",
     "output_type": "stream",
     "text": [
      "<class '__main__.GuoBeamRelativeThickness'>\n"
     ]
    },
    {
     "name": "stderr",
     "output_type": "stream",
     "text": [
      "100%|██████████| 30/30 [26:13<00:00, 52.45s/it]\n"
     ]
    }
   ],
   "source": [
    "n_runs = 30\n",
    "budget = 500\n",
    "\n",
    "topology = Topology(continuous=True, domain=box(0, 0, 100, 50), density=1.)\n",
    "\n",
    "parameterization_explicit_thickness = Capsules(\n",
    "    topology, \n",
    "    symmetry_x=False, \n",
    "    symmetry_y=True, \n",
    "    n_components=1, \n",
    "    n_samples=1000, \n",
    "    representation=MMCCenterpointsConfig, \n",
    "    transformer=GuoBeam(n_samples=1000)\n",
    ")\n",
    "parameterization_relative_thickness = Capsules(\n",
    "    topology, \n",
    "    symmetry_x=False, \n",
    "    symmetry_y=True, \n",
    "    n_components=1, \n",
    "    n_samples=1000, \n",
    "    representation=MMCCenterpointsConfig, \n",
    "    transformer=GuoBeamRelativeThickness(n_samples=1000)\n",
    ")\n",
    "\n",
    "\n",
    "for (exp, parameterization) in [\n",
    "    ('explicit-1mmc', parameterization_explicit_thickness),\n",
    "    ('relative-1mmc', parameterization_relative_thickness),\n",
    "] :\n",
    "    print(type(parameterization.transformer))\n",
    "    for i in trange(n_runs):\n",
    "        with capture_output():\n",
    "            problem = create_horizontal_cantilever_problem(topology, parameterization)\n",
    "            run_experiment(problem, budget=budget, sigma0=0.25, seed=i+1, name=exp)"
   ]
  },
  {
   "cell_type": "code",
   "execution_count": null,
   "metadata": {},
   "outputs": [
    {
     "name": "stdout",
     "output_type": "stream",
     "text": [
      "<class '__main__.GuoBeam'>\n"
     ]
    },
    {
     "name": "stderr",
     "output_type": "stream",
     "text": [
      "100%|██████████| 30/30 [34:18<00:00, 68.63s/it]\n"
     ]
    },
    {
     "name": "stdout",
     "output_type": "stream",
     "text": [
      "<class '__main__.GuoBeamRelativeThickness'>\n"
     ]
    },
    {
     "name": "stderr",
     "output_type": "stream",
     "text": [
      "100%|██████████| 30/30 [31:19<00:00, 62.64s/it]\n"
     ]
    }
   ],
   "source": [
    "n_runs = 30\n",
    "budget = 500\n",
    "\n",
    "topology = Topology(continuous=True, domain=box(0, 0, 100, 50), density=1.)\n",
    "\n",
    "parameterization_explicit_thickness = Capsules(\n",
    "    topology, \n",
    "    symmetry_x=False, \n",
    "    symmetry_y=True, \n",
    "    n_components=3, \n",
    "    n_samples=1000, \n",
    "    representation=MMCCenterpointsConfig, \n",
    "    transformer=GuoBeam(n_samples=1000)\n",
    ")\n",
    "parameterization_relative_thickness = Capsules(\n",
    "    topology, \n",
    "    symmetry_x=False, \n",
    "    symmetry_y=True, \n",
    "    n_components=3, \n",
    "    n_samples=1000, \n",
    "    representation=MMCCenterpointsConfig, \n",
    "    transformer=GuoBeamRelativeThickness(n_samples=1000)\n",
    ")\n",
    "\n",
    "for (exp, parameterization) in [\n",
    "    ('explicit-3mmc', parameterization_explicit_thickness),\n",
    "    ('relative-3mmc', parameterization_relative_thickness),\n",
    "] :\n",
    "    print(type(parameterization.transformer))\n",
    "    for i in trange(n_runs):\n",
    "        with capture_output():\n",
    "            problem = create_horizontal_cantilever_problem(topology, parameterization)\n",
    "            run_experiment(problem, budget=budget, sigma0=0.25, seed=i+1, name=exp)"
   ]
  }
 ],
 "metadata": {
  "kernelspec": {
   "display_name": "TO",
   "language": "python",
   "name": "python3"
  },
  "language_info": {
   "codemirror_mode": {
    "name": "ipython",
    "version": 3
   },
   "file_extension": ".py",
   "mimetype": "text/x-python",
   "name": "python",
   "nbconvert_exporter": "python",
   "pygments_lexer": "ipython3",
   "version": "3.11.11"
  }
 },
 "nbformat": 4,
 "nbformat_minor": 2
}
