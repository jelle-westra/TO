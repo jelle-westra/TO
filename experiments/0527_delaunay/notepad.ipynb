{
 "cells": [
  {
   "cell_type": "code",
   "execution_count": 1,
   "id": "3b2e3742",
   "metadata": {},
   "outputs": [
    {
     "data": {
      "text/markdown": [
       "<div class=\"alert alert-block alert-success\" style=\"font-size: 14px; border-radius: 10px\"><h4>[GO] TO @ 928ba88cae856c72543ac2560f15ee39f205a659</h4><pre>  ✅ No changes found in the ./TO packge.</pre></div>"
      ],
      "text/plain": [
       "<IPython.core.display.Markdown object>"
      ]
     },
     "metadata": {},
     "output_type": "display_data"
    }
   ],
   "source": [
    "import sys\n",
    "sys.path.append('../..')\n",
    "from TO.utils import check_package_status\n",
    "\n",
    "check_package_status();"
   ]
  },
  {
   "cell_type": "code",
   "execution_count": 2,
   "id": "072544b6",
   "metadata": {},
   "outputs": [],
   "source": [
    "from TO.core import Topology\n",
    "from TO.parameterizations.mmc import Capsules\n",
    "from TO.parameterizations.mesh import Delaunay, Voronoi"
   ]
  },
  {
   "cell_type": "code",
   "execution_count": 14,
   "id": "c40f0d62",
   "metadata": {},
   "outputs": [
    {
     "name": "stdout",
     "output_type": "stream",
     "text": [
      "dimension: 20\n"
     ]
    },
    {
     "data": {
      "text/plain": [
       "2234.0"
      ]
     },
     "execution_count": 14,
     "metadata": {},
     "output_type": "execute_result"
    },
    {
     "data": {
      "image/png": "[encoded data removed]",
      "text/plain": [
       "<Figure size 640x480 with 1 Axes>"
      ]
     },
     "metadata": {},
     "output_type": "display_data"
    }
   ],
   "source": [
    "n_points = 10\n",
    "\n",
    "topology = Topology(False, (100,50), 1.0)\n",
    "parameterization = Voronoi(topology, False, True, n_points, Capsules)\n",
    "\n",
    "n_components = n_points\n",
    "\n",
    "rxmin = topology.domain_size_x/n_components/(2 if parameterization.mmc.symmetry_x else 1)/2\n",
    "rymin = topology.domain_size_y/n_components/(2 if parameterization.mmc.symmetry_y else 1)/2\n",
    "parameterization.mmc.normalization_scale[-1] = max(min(rxmin, rymin), 0.5)\n",
    "\n",
    "import numpy as np\n",
    "x = np.random.rand(parameterization.dimension)\n",
    "\n",
    "parameterization.update_topology(topology, x)\n",
    "topology.plot()\n",
    "\n",
    "print('dimension:', 2*n_points)\n",
    "\n",
    "topology.geometry.area"
   ]
  },
  {
   "cell_type": "code",
   "execution_count": 121,
   "id": "b678412f",
   "metadata": {},
   "outputs": [
    {
     "data": {
      "text/plain": [
       "np.float64(0.7071067811865475)"
      ]
     },
     "execution_count": 121,
     "metadata": {},
     "output_type": "execute_result"
    }
   ],
   "source": [
    "1/np.sqrt(2)"
   ]
  },
  {
   "cell_type": "code",
   "execution_count": 90,
   "id": "fd981a1c",
   "metadata": {},
   "outputs": [
    {
     "data": {
      "text/plain": [
       "(1.0, 0.5)"
      ]
     },
     "execution_count": 90,
     "metadata": {},
     "output_type": "execute_result"
    }
   ],
   "source": [
    "rxmin, rymin"
   ]
  }
 ],
 "metadata": {
  "kernelspec": {
   "display_name": "TOnoIOH",
   "language": "python",
   "name": "python3"
  },
  "language_info": {
   "codemirror_mode": {
    "name": "ipython",
    "version": 3
   },
   "file_extension": ".py",
   "mimetype": "text/x-python",
   "name": "python",
   "nbconvert_exporter": "python",
   "pygments_lexer": "ipython3",
   "version": "3.11.11"
  }
 },
 "nbformat": 4,
 "nbformat_minor": 5
}
